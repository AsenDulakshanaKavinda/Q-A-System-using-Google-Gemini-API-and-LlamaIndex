{
 "cells": [
  {
   "cell_type": "code",
   "execution_count": 1,
   "id": "initial_id",
   "metadata": {
    "ExecuteTime": {
     "end_time": "2025-09-29T11:46:03.979897Z",
     "start_time": "2025-09-29T11:44:57.510939Z"
    },
    "collapsed": true
   },
   "outputs": [
    {
     "data": {
      "text/plain": [
       "True"
      ]
     },
     "execution_count": 1,
     "metadata": {},
     "output_type": "execute_result"
    }
   ],
   "source": [
    "import os\n",
    "from dotenv import load_dotenv\n",
    "from newspaper.images import chunk_size\n",
    "from nltk.corpus.reader import documents\n",
    "\n",
    "load_dotenv()"
   ]
  },
  {
   "cell_type": "code",
   "execution_count": 2,
   "id": "957ac21870763850",
   "metadata": {
    "ExecuteTime": {
     "end_time": "2025-09-29T11:46:04.235209Z",
     "start_time": "2025-09-29T11:46:04.208861Z"
    }
   },
   "outputs": [
    {
     "name": "stdout",
     "output_type": "stream",
     "text": [
      "key found\n"
     ]
    }
   ],
   "source": [
    "google_api_key = os.getenv('GEMINI_API_KEY')\n",
    "\n",
    "if google_api_key == \"\":\n",
    "    print(\"key not found\")\n",
    "else:\n",
    "    print(\"key found\")"
   ]
  },
  {
   "cell_type": "code",
   "execution_count": 3,
   "id": "41ffa1930fc38a2b",
   "metadata": {
    "ExecuteTime": {
     "end_time": "2025-09-29T12:34:37.884661Z",
     "start_time": "2025-09-29T12:34:37.874224Z"
    }
   },
   "outputs": [
    {
     "name": "stderr",
     "output_type": "stream",
     "text": [
      "e:\\Project\\Q-A-System-using-Google-Gemini-API-and-LlamaIndex\\.venv\\Lib\\site-packages\\tqdm\\auto.py:21: TqdmWarning: IProgress not found. Please update jupyter and ipywidgets. See https://ipywidgets.readthedocs.io/en/stable/user_install.html\n",
      "  from .autonotebook import tqdm as notebook_tqdm\n"
     ]
    }
   ],
   "source": [
    "import google.generativeai as genai\n",
    "from llama_index.core import SimpleDirectoryReader\n",
    "from llama_index.core import  VectorStoreIndex\n",
    "from llama_index.core import ServiceContext\n",
    "from llama_index.core import StorageContext, load_index_from_storage\n",
    "# imports\n",
    "from llama_index.embeddings.gemini import GeminiEmbedding\n",
    "from llama_index.embeddings.google_genai import GoogleGenAIEmbedding\n",
    "from google.genai.types import EmbedContentConfig\n",
    "from llama_index.core import Settings\n",
    "\n",
    "from IPython.display import display\n",
    "\n"
   ]
  },
  {
   "cell_type": "code",
   "execution_count": 4,
   "id": "afc94df26c447d4a",
   "metadata": {
    "ExecuteTime": {
     "end_time": "2025-09-29T11:46:04.531145Z",
     "start_time": "2025-09-29T11:46:04.495504Z"
    }
   },
   "outputs": [],
   "source": [
    "genai.configure(api_key=google_api_key)"
   ]
  },
  {
   "cell_type": "code",
   "execution_count": 5,
   "id": "9b5296be690860a2",
   "metadata": {
    "ExecuteTime": {
     "end_time": "2025-09-29T11:46:06.561764Z",
     "start_time": "2025-09-29T11:46:04.566332Z"
    }
   },
   "outputs": [
    {
     "name": "stdout",
     "output_type": "stream",
     "text": [
      "models/gemini-2.5-pro-preview-03-25\n",
      "models/gemini-2.5-flash-preview-05-20\n",
      "models/gemini-2.5-flash\n",
      "models/gemini-2.5-flash-lite-preview-06-17\n",
      "models/gemini-2.5-pro-preview-05-06\n",
      "models/gemini-2.5-pro-preview-06-05\n",
      "models/gemini-2.5-pro\n",
      "models/gemini-2.0-flash-exp\n",
      "models/gemini-2.0-flash\n",
      "models/gemini-2.0-flash-001\n",
      "models/gemini-2.0-flash-exp-image-generation\n",
      "models/gemini-2.0-flash-lite-001\n",
      "models/gemini-2.0-flash-lite\n",
      "models/gemini-2.0-flash-preview-image-generation\n",
      "models/gemini-2.0-flash-lite-preview-02-05\n",
      "models/gemini-2.0-flash-lite-preview\n",
      "models/gemini-2.0-pro-exp\n",
      "models/gemini-2.0-pro-exp-02-05\n",
      "models/gemini-exp-1206\n",
      "models/gemini-2.0-flash-thinking-exp-01-21\n",
      "models/gemini-2.0-flash-thinking-exp\n",
      "models/gemini-2.0-flash-thinking-exp-1219\n",
      "models/gemini-2.5-flash-preview-tts\n",
      "models/gemini-2.5-pro-preview-tts\n",
      "models/learnlm-2.0-flash-experimental\n",
      "models/gemma-3-1b-it\n",
      "models/gemma-3-4b-it\n",
      "models/gemma-3-12b-it\n",
      "models/gemma-3-27b-it\n",
      "models/gemma-3n-e4b-it\n",
      "models/gemma-3n-e2b-it\n",
      "models/gemini-flash-latest\n",
      "models/gemini-flash-lite-latest\n",
      "models/gemini-pro-latest\n",
      "models/gemini-2.5-flash-lite\n",
      "models/gemini-2.5-flash-image-preview\n",
      "models/gemini-2.5-flash-preview-09-2025\n",
      "models/gemini-2.5-flash-lite-preview-09-2025\n",
      "models/gemini-robotics-er-1.5-preview\n"
     ]
    }
   ],
   "source": [
    "for models in genai.list_models():\n",
    "    if 'generateContent' in models.supported_generation_methods:\n",
    "        print(models.name)"
   ]
  },
  {
   "cell_type": "code",
   "execution_count": 6,
   "id": "392ac60f80ca50fa",
   "metadata": {
    "ExecuteTime": {
     "end_time": "2025-09-29T12:04:15.360293Z",
     "start_time": "2025-09-29T12:04:13.687881Z"
    }
   },
   "outputs": [
    {
     "name": "stdout",
     "output_type": "stream",
     "text": [
      "models/embedding-001\n",
      "models/text-embedding-004\n",
      "models/gemini-embedding-exp-03-07\n",
      "models/gemini-embedding-exp\n",
      "models/gemini-embedding-001\n"
     ]
    }
   ],
   "source": [
    "for model in genai.list_models():\n",
    "    if 'embedContent' in model.supported_generation_methods:\n",
    "        print(model.name)"
   ]
  },
  {
   "cell_type": "code",
   "execution_count": 7,
   "id": "f84306ec3405e4e0",
   "metadata": {
    "ExecuteTime": {
     "end_time": "2025-09-29T11:46:06.612450Z",
     "start_time": "2025-09-29T11:46:06.602237Z"
    }
   },
   "outputs": [],
   "source": [
    "documents = SimpleDirectoryReader('../data/')"
   ]
  },
  {
   "cell_type": "code",
   "execution_count": 8,
   "id": "2ae905b3cb788fe5",
   "metadata": {
    "ExecuteTime": {
     "end_time": "2025-09-29T11:46:06.825061Z",
     "start_time": "2025-09-29T11:46:06.623059Z"
    }
   },
   "outputs": [],
   "source": [
    "doc=documents.load_data()"
   ]
  },
  {
   "cell_type": "code",
   "execution_count": 9,
   "id": "5eecd0dc5a9a08bc",
   "metadata": {
    "ExecuteTime": {
     "end_time": "2025-09-29T11:46:06.860286Z",
     "start_time": "2025-09-29T11:46:06.841647Z"
    }
   },
   "outputs": [
    {
     "data": {
      "text/plain": [
       "'What is machine learning?\\r\\nMachine learning is a branch of artificial intelligence (AI) and computer science which\\r\\nfocuses on the use of data and algorithms to imitate the way that humans learn,\\r\\ngradually improving its accuracy.\\r\\nIBM has a rich history with machine learning. One of its own, Arthur Samuel, is credited\\r\\nfor coining the term, “machine learning” with his research (link resides outside ibm.com)\\r\\naround the game of checkers. Robert Nealey, the self-proclaimed checkers master,\\r\\nplayed the game on an IBM 7094 computer in 1962, and he lost to the computer.\\r\\nCompared to what can be done today, this feat seems trivial, but it’s considered a major\\r\\nmilestone in the field of artificial intelligence.\\r\\nOver the last couple of decades, the technological advances in storage and processing\\r\\npower have enabled some innovative products based on machine learning, such as\\r\\nNetflix’s recommendation engine and self-driving cars.\\r\\nMachine learning is an important component of the growing field of data science.\\r\\nThrough the use of statistical methods, algorithms are trained to make classifications or\\r\\npredictions, and to uncover key insights in data mining projects. These insights\\r\\nsubsequently drive decision making within applications and businesses, ideally\\r\\nimpacting key growth metrics. As big data continues to expand and grow, the market\\r\\ndemand for new data scientists will increase. They will be required to help identify the\\r\\nmost relevant business questions and the data to answer them.\\r\\nMachine learning algorithms are typically created using frameworks such as Python that\\r\\naccelerate solution development by using platforms like TensorFlow or PyTorch.\\r\\nNow available: watsonx.ai\\r\\nThe all-new enterprise studio that brings together traditional machine learning along\\r\\nwith new generative AI capabilities powered by foundation models.\\r\\nTry watsonx.ai\\r\\nBegin your journey to AI\\r\\nLearn how to scale AI\\r\\nExplore the AI Academy\\r\\nMachine Learning vs. Deep Learning vs. Neural Networks\\r\\nSince deep learning and machine learning tend to be used interchangeably, it’s worth\\r\\nnoting the nuances between the two. Machine learning, deep learning, and neural\\r\\nnetworks are all sub-fields of artificial intelligence. However, neural networks is actually\\r\\na sub-field of machine learning, and deep learning is a sub-field of neural networks.\\r\\nThe way in which deep learning and machine learning differ is in how each algorithm\\r\\nlearns. \"Deep\" machine learning can use labeled datasets, also known as supervised\\r\\nlearning, to inform its algorithm, but it doesn’t necessarily require a labeled dataset. The\\r\\ndeep learning process can ingest unstructured data in its raw form (e.g., text or images),\\r\\nand it can automatically determine the set of features which distinguish different\\r\\ncategories of data from one another. This eliminates some of the human intervention\\r\\nrequired and enables the use of large amounts of data. You can think of deep learning\\r\\nas \"scalable machine learning\" as Lex Fridman notes in this MIT lecture (link resides\\r\\noutside ibm.com).\\r\\nClassical, or \"non-deep,\" machine learning is more dependent on human intervention to\\r\\nlearn. Human experts determine the set of features to understand the differences\\r\\nbetween data inputs, usually requiring more structured data to learn.\\r\\nNeural networks, or artificial neural networks (ANNs), are comprised of node layers,\\r\\ncontaining an input layer, one or more hidden layers, and an output layer. Each node, or\\r\\nartificial neuron, connects to another and has an associated weight and threshold. If the\\r\\noutput of any individual node is above the specified threshold value, that node is\\r\\nactivated, sending data to the next layer of the network. Otherwise, no data is passed\\r\\nalong to the next layer of the network by that node. The “deep” in deep learning is just\\r\\nreferring to the number of layers in a neural network. A neural network that consists of\\r\\nmore than three layers—which would be inclusive of the input and the output—can be\\r\\nconsidered a deep learning algorithm or a deep neural network. A neural network that\\r\\nonly has three layers is just a basic neural network.\\r\\nDeep learning and neural networks are credited with accelerating progress in areas\\r\\nsuch as computer vision, natural language processing, and speech recognition.\\r\\nSee the blog post “AI vs. Machine Learning vs. Deep Learning vs. Neural Networks:\\r\\nWhat’s the Difference?” for a closer look at how the different concepts relate.\\r\\nRelated content\\r\\nExplore the watsonx.ai interactive demo\\r\\nDownload “Machine learning for Dummies”\\r\\n- This link downloads a pdf\\r\\nExplore Gen AI for developers\\r\\nHow does machine learning work?\\r\\nUC Berkeley (link resides outside ibm.com) breaks out the learning system of a\\r\\nmachine learning algorithm into three main parts.\\r\\nA Decision Process: In general, machine learning algorithms are used to make a\\r\\nprediction or classification. Based on some input data, which can be labeled or\\r\\nunlabeled, your algorithm will produce an estimate about a pattern in the data.\\r\\nAn Error Function: An error function evaluates the prediction of the model. If\\r\\nthere are known examples, an error function can make a comparison to assess\\r\\nthe accuracy of the model.\\r\\nA Model Optimization Process: If the model can fit better to the data points in the\\r\\ntraining set, then weights are adjusted to reduce the discrepancy between the\\r\\nknown example and the model estimate. The algorithm will repeat this iterative\\r\\n“evaluate and optimize” process, updating weights autonomously until a\\r\\nthreshold of accuracy has been met.\\r\\nMachine learning methods\\r\\nMachine learning models fall into three primary categories.\\r\\nSupervised machine learning\\r\\nSupervised learning, also known as supervised machine learning, is defined by its use\\r\\nof labeled datasets to train algorithms to classify data or predict outcomes accurately.\\r\\nAs input data is fed into the model, the model adjusts its weights until it has been fitted\\r\\nappropriately. This occurs as part of the cross validation process to ensure that the\\r\\nmodel avoids overfitting or underfitting. Supervised learning helps organizations solve a\\r\\nvariety of real-world problems at scale, such as classifying spam in a separate folder\\r\\nfrom your inbox. Some methods used in supervised learning include neural networks,\\r\\nnaïve bayes, linear regression, logistic regression, random forest, and support vector\\r\\nmachine (SVM).\\r\\nUnsupervised machine learning\\r\\nUnsupervised learning, also known as unsupervised machine learning, uses machine\\r\\nlearning algorithms to analyze and cluster unlabeled datasets (subsets called clusters).\\r\\nThese algorithms discover hidden patterns or data groupings without the need for\\r\\nhuman intervention. This method’s ability to discover similarities and differences in\\r\\ninformation make it ideal for exploratory data analysis, cross-selling strategies,\\r\\ncustomer segmentation, and image and pattern recognition. It’s also used to reduce the\\r\\nnumber of features in a model through the process of dimensionality reduction. Principal\\r\\ncomponent analysis (PCA) and singular value decomposition (SVD) are two common\\r\\napproaches for this. Other algorithms used in unsupervised learning include neural\\r\\nnetworks, k-means clustering, and probabilistic clustering methods.\\r\\nSemi-supervised learning\\r\\nSemi-supervised learning offers a happy medium between supervised and\\r\\nunsupervised learning. During training, it uses a smaller labeled data set to guide\\r\\nclassification and feature extraction from a larger, unlabeled data set. Semi-supervised\\r\\nlearning can solve the problem of not having enough labeled data for a supervised\\r\\nlearning algorithm. It also helps if it’s too costly to label enough data.\\r\\nFor a deep dive into the differences between these approaches, check out \"Supervised\\r\\nvs. Unsupervised Learning: What\\'s the Difference?\"\\r\\nReinforcement machine learning\\r\\nReinforcement machine learning is a machine learning model that is similar to\\r\\nsupervised learning, but the algorithm isn’t trained using sample data. This model learns\\r\\nas it goes by using trial and error. A sequence of successful outcomes will be reinforced\\r\\nto develop the best recommendation or policy for a given problem.\\r\\nThe IBM Watson® system that won the Jeopardy! challenge in 2011 is a good example.\\r\\nThe system used reinforcement learning to learn when to attempt an answer (or\\r\\nquestion, as it were), which square to select on the board, and how much to\\r\\nwager—especially on daily doubles.\\r\\nLearn more about reinforcement learning\\r\\nCommon machine learning algorithms\\r\\nA number of machine learning algorithms are commonly used. These include:\\r\\nNeural networks: Neural networks simulate the way the human brain works, with\\r\\na huge number of linked processing nodes. Neural networks are good at\\r\\nrecognizing patterns and play an important role in applications including natural\\r\\nlanguage translation, image recognition, speech recognition, and image creation.\\r\\nLinear regression: This algorithm is used to predict numerical values, based on a\\r\\nlinear relationship between different values. For example, the technique could be\\r\\nused to predict house prices based on historical data for the area.\\r\\nLogistic regression: This supervised learning algorithm makes predictions for\\r\\ncategorical response variables, such as “yes/no” answers to questions. It can be\\r\\nused for applications such as classifying spam and quality control on a\\r\\nproduction line.\\r\\nClustering: Using unsupervised learning, clustering algorithms can identify\\r\\npatterns in data so that it can be grouped. Computers can help data scientists by\\r\\nidentifying differences between data items that humans have overlooked.\\r\\nDecision trees: Decision trees can be used for both predicting numerical values\\r\\n(regression) and classifying data into categories. Decision trees use a branching\\r\\nsequence of linked decisions that can be represented with a tree diagram. One of\\r\\nthe advantages of decision trees is that they are easy to validate and audit,\\r\\nunlike the black box of the neural network.\\r\\nRandom forests: In a random forest, the machine learning algorithm predicts a\\r\\nvalue or category by combining the results from a number of decision trees.\\r\\nAdvantages and disadvantages of machine learning algorithms\\r\\nDepending on your budget, need for speed and precision required, each algorithm\\r\\ntype—supervised, unsupervised, semi-supervised, or reinforcement—has its own\\r\\nadvantages and disadvantages. For example, decision tree algorithms are used for both\\r\\npredicting numerical values (regression problems) and classifying data into categories.\\r\\nDecision trees use a branching sequence of linked decisions that may be represented\\r\\nwith a tree diagram. A prime advantage of decision trees is that they are easier to\\r\\nvalidate and audit than a neural network. The bad news is that they can be more\\r\\nunstable than other decision predictors.\\r\\nOverall, there are many advantages to machine learning that businesses can leverage\\r\\nfor new efficiencies. These include machine learning identifying patterns and trends in\\r\\nmassive volumes of data that humans might not spot at all. And this analysis requires\\r\\nlittle human intervention: just feed in the dataset of interest and let the machine learning\\r\\nsystem assemble and refine its own algorithms—which will continually improve with\\r\\nmore data input over time. Customers and users can enjoy a more personalized\\r\\nexperience as the model learns more with every experience with that person.\\r\\nOn the downside, machine learning requires large training datasets that are accurate\\r\\nand unbiased. GIGO is the operative factor: garbage in / garbage out. Gathering\\r\\nsufficient data and having a system robust enough to run it might also be a drain on\\r\\nresources. Machine learning can also be prone to error, depending on the input. With\\r\\ntoo small a sample, the system could produce a perfectly logical algorithm that is\\r\\ncompletely wrong or misleading. To avoid wasting budget or displeasing customers,\\r\\norganizations should act on the answers only when there is high confidence in the\\r\\noutput.\\r\\nReal-world machine learning use cases\\r\\nHere are just a few examples of machine learning you might encounter every day:\\r\\nSpeech recognition: It is also known as automatic speech recognition (ASR), computer\\r\\nspeech recognition, or speech-to-text, and it is a capability which uses natural language\\r\\nprocessing (NLP) to translate human speech into a written format. Many mobile devices\\r\\nincorporate speech recognition into their systems to conduct voice search—e.g. Siri—or\\r\\nimprove accessibility for texting.\\r\\nCustomer service: Online chatbots are replacing human agents along the customer\\r\\njourney, changing the way we think about customer engagement across websites and\\r\\nsocial media platforms. Chatbots answer frequently asked questions (FAQs) about\\r\\ntopics such as shipping, or provide personalized advice, cross-selling products or\\r\\nsuggesting sizes for users. Examples include virtual agents on e-commerce sites;\\r\\nmessaging bots, using Slack and Facebook Messenger; and tasks usually done by\\r\\nvirtual assistants and voice assistants.\\r\\nComputer vision: This AI technology enables computers to derive meaningful\\r\\ninformation from digital images, videos, and other visual inputs, and then take the\\r\\nappropriate action. Powered by convolutional neural networks, computer vision has\\r\\napplications in photo tagging on social media, radiology imaging in healthcare, and\\r\\nself-driving cars in the automotive industry.\\r\\nRecommendation engines: Using past consumption behavior data, AI algorithms can\\r\\nhelp to discover data trends that can be used to develop more effective cross-selling\\r\\nstrategies. Recommendation engines are used by online retailers to make relevant\\r\\nproduct recommendations to customers during the checkout process.\\r\\nRobotic process automation (RPA): Also known as software robotics, RPA uses\\r\\nintelligent automation technologies to perform repetitive manual tasks.\\r\\nAutomated stock trading: Designed to optimize stock portfolios, AI-driven\\r\\nhigh-frequency trading platforms make thousands or even millions of trades per day\\r\\nwithout human intervention.\\r\\nFraud detection: Banks and other financial institutions can use machine learning to spot\\r\\nsuspicious transactions. Supervised learning can train a model using information about\\r\\nknown fraudulent transactions. Anomaly detection can identify transactions that look\\r\\natypical and deserve further investigation.\\r\\nChallenges of machine learning\\r\\nAs machine learning technology has developed, it has certainly made our lives easier.\\r\\nHowever, implementing machine learning in businesses has also raised a number of\\r\\nethical concerns about AI technologies. Some of these include:\\r\\nTechnological singularity\\r\\nWhile this topic garners a lot of public attention, many researchers are not concerned\\r\\nwith the idea of AI surpassing human intelligence in the near future. Technological\\r\\nsingularity is also referred to as strong AI or superintelligence. Philosopher Nick\\r\\nBostrum defines superintelligence as “any intellect that vastly outperforms the best\\r\\nhuman brains in practically every field, including scientific creativity, general wisdom,\\r\\nand social skills.” Despite the fact that superintelligence is not imminent in society, the\\r\\nidea of it raises some interesting questions as we consider the use of autonomous\\r\\nsystems, like self-driving cars. It’s unrealistic to think that a driverless car would never\\r\\nhave an accident, but who is responsible and liable under those circumstances? Should\\r\\nwe still develop autonomous vehicles, or do we limit this technology to\\r\\nsemi-autonomous vehicles which help people drive safely? The jury is still out on this,\\r\\nbut these are the types of ethical debates that are occurring as new, innovative AI\\r\\ntechnology develops.\\r\\nAI impact on jobs\\r\\nWhile a lot of public perception of artificial intelligence centers around job losses, this\\r\\nconcern should probably be reframed. With every disruptive, new technology, we see\\r\\nthat the market demand for specific job roles shifts. For example, when we look at the\\r\\nautomotive industry, many manufacturers, like GM, are shifting to focus on electric\\r\\nvehicle production to align with green initiatives. The energy industry isn’t going away,\\r\\nbut the source of energy is shifting from a fuel economy to an electric one.\\r\\nIn a similar way, artificial intelligence will shift the demand for jobs to other areas. There\\r\\nwill need to be individuals to help manage AI systems. There will still need to be people\\r\\nto address more complex problems within the industries that are most likely to be\\r\\naffected by job demand shifts, such as customer service. The biggest challenge with\\r\\nartificial intelligence and its effect on the job market will be helping people to transition\\r\\nto new roles that are in demand.\\r\\nPrivacy\\r\\nPrivacy tends to be discussed in the context of data privacy, data protection, and data\\r\\nsecurity. These concerns have allowed policymakers to make more strides in recent\\r\\nyears. For example, in 2016, GDPR legislation was created to protect the personal data\\r\\nof people in the European Union and European Economic Area, giving individuals more\\r\\ncontrol of their data. In the United States, individual states are developing policies, such\\r\\nas the California Consumer Privacy Act (CCPA), which was introduced in 2018 and\\r\\nrequires businesses to inform consumers about the collection of their data. Legislation\\r\\nsuch as this has forced companies to rethink how they store and use personally\\r\\nidentifiable information (PII). As a result, investments in security have become an\\r\\nincreasing priority for businesses as they seek to eliminate any vulnerabilities and\\r\\nopportunities for surveillance, hacking, and cyberattacks.\\r\\nBias and discrimination\\r\\nInstances of bias and discrimination across a number of machine learning systems have\\r\\nraised many ethical questions regarding the use of artificial intelligence. How can we\\r\\nsafeguard against bias and discrimination when the training data itself may be\\r\\ngenerated by biased human processes? While companies typically have good\\r\\nintentions for their automation efforts, Reuters (link resides outside ibm.com) highlights\\r\\nsome of the unforeseen consequences of incorporating AI into hiring practices. In their\\r\\neffort to automate and simplify a process, Amazon unintentionally discriminated against\\r\\njob candidates by gender for technical roles, and the company ultimately had to scrap\\r\\nthe project. Harvard Business Review (link resides outside ibm.com) has raised other\\r\\npointed questions about the use of AI in hiring practices, such as what data you should\\r\\nbe able to use when evaluating a candidate for a role.\\r\\nBias and discrimination aren’t limited to the human resources function either; they can\\r\\nbe found in a number of applications from facial recognition software to social media\\r\\nalgorithms.\\r\\nAs businesses become more aware of the risks with AI, they’ve also become more\\r\\nactive in this discussion around AI ethics and values. For example, IBM has sunset its\\r\\ngeneral purpose facial recognition and analysis products. IBM CEO Arvind Krishna\\r\\nwrote: “IBM firmly opposes and will not condone uses of any technology, including facial\\r\\nrecognition technology offered by other vendors, for mass surveillance, racial profiling,\\r\\nviolations of basic human rights and freedoms, or any purpose which is not consistent\\r\\nwith our values and Principles of Trust and Transparency.”\\r\\nAccountability\\r\\nSince there isn’t significant legislation to regulate AI practices, there is no real\\r\\nenforcement mechanism to ensure that ethical AI is practiced. The current incentives for\\r\\ncompanies to be ethical are the negative repercussions of an unethical AI system on the\\r\\nbottom line. To fill the gap, ethical frameworks have emerged as part of a collaboration\\r\\nbetween ethicists and researchers to govern the construction and distribution of AI\\r\\nmodels within society. However, at the moment, these only serve to guide. Some\\r\\nresearch (link resides outside ibm.com) shows that the combination of distributed\\r\\nresponsibility and a lack of foresight into potential consequences aren’t conducive to\\r\\npreventing harm to society.\\r\\nRead more about IBM\\'s position on AI Ethics\\r\\nHow to choose the right AI platform for machine learning\\r\\nSelecting a platform can be a challenging process, as the wrong system can drive up\\r\\ncosts, or limit the use of other valuable tools or technologies. When reviewing multiple\\r\\nvendors to select an AI platform, there is often a tendency to think that more features =\\r\\na better system. Maybe so, but reviewers should start by thinking through what the AI\\r\\nplatform will be doing for their organization. What machine learning capabilities need to\\r\\nbe delivered and what features are important to accomplish them? One missing feature\\r\\nmight doom the usefulness of an entire system. Here are some features to consider.\\r\\nMLOps capabilities. Does the system have:\\r\\na unified interface for ease of management?\\r\\nautomated machine learning tools for faster model creation with low-code\\r\\nand no-code functionality?\\r\\ndecision optimization to streamline the selection and deployment of\\r\\noptimization models?\\r\\nvisual modeling to combine visual data science with open-source libraries\\r\\nand notebook-based interfaces on a unified data and AI studio?\\r\\nautomated development for beginners to get started quickly and more\\r\\nadvanced data scientists to experiment?\\r\\nsynthetic data generator as an alternative or supplement to real-world data\\r\\nwhen real-world data is not readily available?\\r\\nGenerative AI capabilities. Does the system have:\\r\\na content generator that can generate text, images and other content\\r\\nbased on the data it was trained on?\\r\\nautomated classification to read and classify written input, such as\\r\\nevaluating and sorting customer complaints or reviewing customer\\r\\nfeedback sentiment?\\r\\na summary generator that can transform dense text into a high-quality\\r\\nsummary, capture key points from financial reports, and generate meeting\\r\\ntranscriptions?\\r\\na data extraction capability to sort through complex details and quickly pull\\r\\nthe necessary information from large documents?'"
      ]
     },
     "execution_count": 9,
     "metadata": {},
     "output_type": "execute_result"
    }
   ],
   "source": [
    "doc[0].text"
   ]
  },
  {
   "cell_type": "code",
   "execution_count": 10,
   "id": "26107ac57443160a",
   "metadata": {
    "ExecuteTime": {
     "end_time": "2025-09-29T12:04:40.298287Z",
     "start_time": "2025-09-29T12:04:40.291296Z"
    }
   },
   "outputs": [
    {
     "name": "stderr",
     "output_type": "stream",
     "text": [
      "C:\\Users\\asend\\AppData\\Local\\Temp\\ipykernel_25584\\3246188765.py:2: DeprecationWarning: Call to deprecated class GeminiEmbedding. (Should use `llama-index-embeddings-google-genai` instead, using Google's latest unified SDK. See: https://docs.llamaindex.ai/en/stable/examples/embeddings/google_genai/)\n",
      "  embed_model = GeminiEmbedding(\n"
     ]
    }
   ],
   "source": [
    "embedmodel_name = \"models/text-embedding-004\"\n",
    "embed_model = GeminiEmbedding(\n",
    "    model_name=embedmodel_name, api_key=google_api_key, title=\"this is a document\"\n",
    ")"
   ]
  },
  {
   "cell_type": "code",
   "execution_count": 11,
   "id": "980062364a6c8e6c",
   "metadata": {
    "ExecuteTime": {
     "end_time": "2025-09-29T12:04:47.975690Z",
     "start_time": "2025-09-29T12:04:47.227704Z"
    }
   },
   "outputs": [
    {
     "name": "stdout",
     "output_type": "stream",
     "text": [
      "[0.023529466, 0.016315917, -0.06835473, 0.036938, 0.054701325]\n",
      "Dimension of embeddings: 768\n"
     ]
    }
   ],
   "source": [
    "embeddings = embed_model.get_text_embedding(\"Google Gemini Embeddings.\")\n",
    "print(embeddings[:5])\n",
    "print(f\"Dimension of embeddings: {len(embeddings)}\")"
   ]
  },
  {
   "cell_type": "code",
   "execution_count": 12,
   "id": "5aab3732",
   "metadata": {},
   "outputs": [
    {
     "name": "stderr",
     "output_type": "stream",
     "text": [
      "C:\\Users\\asend\\AppData\\Local\\Temp\\ipykernel_25584\\4002006965.py:3: DeprecationWarning: Call to deprecated class Gemini. (Should use `llama-index-llms-google-genai` instead, using Google's latest unified SDK. See: https://docs.llamaindex.ai/en/stable/examples/llm/google_genai/)\n",
      "  llm = Gemini(\n"
     ]
    }
   ],
   "source": [
    "from llama_index.llms.gemini import Gemini\n",
    "\n",
    "llm = Gemini(\n",
    "    model=\"models/gemini-2.5-pro\",\n",
    ")"
   ]
  },
  {
   "cell_type": "code",
   "execution_count": 13,
   "id": "fae62141f0ed46",
   "metadata": {
    "ExecuteTime": {
     "end_time": "2025-09-29T12:45:58.763449Z",
     "start_time": "2025-09-29T12:45:57.899606Z"
    }
   },
   "outputs": [],
   "source": [
    "\n",
    "# Apply global settings\n",
    "Settings.llm = llm\n",
    "Settings.embed_model = embed_model\n",
    "Settings.chunk_size = 800\n",
    "Settings.num_output = 512\n",
    "Settings.chunk_overlap = 20\n"
   ]
  },
  {
   "cell_type": "code",
   "execution_count": 16,
   "id": "eb035b3f3c2f0b04",
   "metadata": {
    "ExecuteTime": {
     "end_time": "2025-09-29T11:46:07.051538Z",
     "start_time": "2025-09-29T11:46:07.048073Z"
    }
   },
   "outputs": [],
   "source": [
    "index = VectorStoreIndex.from_documents(doc, embed_model=embed_model)"
   ]
  },
  {
   "cell_type": "code",
   "execution_count": 17,
   "id": "b7b4292793454acc",
   "metadata": {
    "ExecuteTime": {
     "end_time": "2025-09-29T11:46:07.090026Z",
     "start_time": "2025-09-29T11:46:07.086201Z"
    }
   },
   "outputs": [],
   "source": [
    "query_engine = index.as_query_engine(llm=llm)"
   ]
  },
  {
   "cell_type": "code",
   "execution_count": 18,
   "id": "8156af9dc2fa5bc6",
   "metadata": {
    "ExecuteTime": {
     "end_time": "2025-09-29T11:46:07.104554Z",
     "start_time": "2025-09-29T11:46:07.100622Z"
    }
   },
   "outputs": [],
   "source": [
    "response = query_engine.query(\"what is ML?\")"
   ]
  },
  {
   "cell_type": "code",
   "execution_count": 19,
   "id": "5b9c414c",
   "metadata": {},
   "outputs": [
    {
     "name": "stdout",
     "output_type": "stream",
     "text": [
      "Machine learning (ML) is a branch of artificial intelligence (AI) and computer science that focuses on using data and algorithms to imitate the way humans learn, gradually improving its accuracy over time. It is a significant component of the data science field.\n",
      "\n",
      "Through the use of statistical methods, ML algorithms are trained to make classifications or predictions and to uncover key insights in data mining projects. These insights are then used to drive decision-making within applications and businesses, ideally impacting key growth metrics.\n",
      "\n",
      "Technological advancements have enabled the creation of innovative products based on machine learning, such as Netflix's recommendation engine and self-driving cars. The term \"machine learning\" is credited to Arthur Samuel.\n"
     ]
    }
   ],
   "source": [
    "print(response)"
   ]
  },
  {
   "cell_type": "code",
   "execution_count": 20,
   "id": "527fba9b",
   "metadata": {},
   "outputs": [
    {
     "name": "stdout",
     "output_type": "stream",
     "text": [
      "I am sorry, but the provided information does not contain any details about Sri Lanka.\n"
     ]
    }
   ],
   "source": [
    "print(query_engine.query(\"tell me about sri lanka\"))"
   ]
  },
  {
   "cell_type": "code",
   "execution_count": null,
   "metadata": {},
   "outputs": [],
   "source": []
  },
  {
   "cell_type": "code",
   "execution_count": null,
   "metadata": {},
   "outputs": [],
   "source": []
  },
  {
   "cell_type": "code",
   "execution_count": null,
   "id": "01f4812b",
   "metadata": {},
   "outputs": [],
   "source": []
  },
  {
   "cell_type": "code",
   "execution_count": null,
   "id": "1678517a",
   "metadata": {},
   "outputs": [],
   "source": []
  },
  {
   "cell_type": "code",
   "execution_count": null,
   "metadata": {},
   "outputs": [],
   "source": []
  },
  {
   "cell_type": "code",
   "execution_count": null,
   "id": "1319b071",
   "metadata": {},
   "outputs": [],
   "source": []
  },
  {
   "cell_type": "code",
   "execution_count": null,
   "metadata": {},
   "outputs": [],
   "source": []
  },
  {
   "cell_type": "code",
   "execution_count": null,
   "id": "d599a6ff",
   "metadata": {},
   "outputs": [],
   "source": []
  },
  {
   "cell_type": "code",
   "execution_count": null,
   "id": "f5d2be45",
   "metadata": {},
   "outputs": [],
   "source": []
  },
  {
   "cell_type": "code",
   "execution_count": null,
   "metadata": {},
   "outputs": [],
   "source": []
  }
 ],
 "metadata": {
  "kernelspec": {
   "display_name": ".venv",
   "language": "python",
   "name": "python3"
  },
  "language_info": {
   "codemirror_mode": {
    "name": "ipython",
    "version": 3
   },
   "file_extension": ".py",
   "mimetype": "text/x-python",
   "name": "python",
   "nbconvert_exporter": "python",
   "pygments_lexer": "ipython3",
   "version": "3.13.7"
  }
 },
 "nbformat": 4,
 "nbformat_minor": 5
}
